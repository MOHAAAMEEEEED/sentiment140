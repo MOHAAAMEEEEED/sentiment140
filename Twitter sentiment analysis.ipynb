{
 "cells": [
  {
   "cell_type": "code",
   "execution_count": 2,
   "id": "93d05686",
   "metadata": {},
   "outputs": [],
   "source": [
    "#for data manipulation\n",
    "import pandas as pd\n",
    "import numpy as np\n",
    "import re\n",
    "import string\n",
    "\n",
    "#for methods and stopwords text processing\n",
    "from nltk.corpus import stopwords\n",
    "from nltk.tokenize import word_tokenize\n",
    "from nltk.stem import PorterStemmer\n",
    "from nltk.stem import WordNetLemmatizer\n",
    "from sklearn.feature_extraction.text import TfidfVectorizer\n",
    "from sklearn.model_selection import train_test_split\n",
    "\n",
    "# package which is used for data visualization.\n",
    "import matplotlib.pyplot as plt\n",
    "import seaborn as sns\n",
    "\n",
    "# machine learning models \n",
    "from sklearn.metrics import accuracy_score,precision_score, f1_score,confusion_matrix\n",
    "from sklearn import metrics\n",
    "from sklearn.naive_bayes import MultinomialNB\n",
    "from sklearn.linear_model import LogisticRegression"
   ]
  },
  {
   "cell_type": "markdown",
   "id": "4382643a",
   "metadata": {},
   "source": [
    "## download the stopwords corpus and create a set of English stopwords words such as (\"the,\" \"and,\" \"a,\") which not provide much meaning to the text"
   ]
  },
  {
   "cell_type": "code",
   "execution_count": 3,
   "id": "6d1c29a1",
   "metadata": {},
   "outputs": [
    {
     "name": "stderr",
     "output_type": "stream",
     "text": [
      "[nltk_data] Downloading package stopwords to\n",
      "[nltk_data]     C:\\Users\\ELZAHBIA\\AppData\\Roaming\\nltk_data...\n",
      "[nltk_data]   Package stopwords is already up-to-date!\n"
     ]
    }
   ],
   "source": [
    "import nltk\n",
    "nltk.download('stopwords')\n",
    "stop_words=set(stopwords.words('english'))"
   ]
  },
  {
   "cell_type": "code",
   "execution_count": 4,
   "id": "83428137",
   "metadata": {},
   "outputs": [],
   "source": [
    "import pandas as pd\n",
    "def load_DataSet(path):\n",
    "    DATASET_COLUMNS  = [\"sentiment\", \"ids\", \"date\", \"flag\", \"user\", \"text\"]\n",
    "    df = pd.read_csv(path, encoding='latin-1',names=DATASET_COLUMNS)\n",
    "    return df\n",
    "data=load_DataSet(\"C:/Users/ELZAHBIA/OneDrive - King Salman International University/Desktop/train_test.csv\")\n",
    "data = data[['sentiment','text']]\n",
    "data['sentiment'] = data['sentiment'].replace(4,1)\n",
    "#print(data)"
   ]
  },
  {
   "cell_type": "markdown",
   "id": "34e387f5",
   "metadata": {},
   "source": [
    "## count the number of occurrences of each unique value in a column and creates a bar plot of the distribution of data based on the sentiment label"
   ]
  },
  {
   "cell_type": "code",
   "execution_count": 5,
   "id": "42d9ac6c",
   "metadata": {},
   "outputs": [
    {
     "name": "stdout",
     "output_type": "stream",
     "text": [
      "0    800000\n",
      "1    800000\n",
      "Name: sentiment, dtype: int64\n"
     ]
    },
    {
     "data": {
      "image/png": "[encoded data removed]",
      "text/plain": [
       "<Figure size 640x480 with 1 Axes>"
      ]
     },
     "metadata": {},
     "output_type": "display_data"
    }
   ],
   "source": [
    "print(data['sentiment'].value_counts())\n",
    "ax = data.groupby('sentiment').count().plot(kind='bar', title='Distribution of data',legend=False)\n",
    "ax.set_xticklabels(['Negative','Positive'], rotation=0)\n",
    "plt.show()"
   ]
  },
  {
   "cell_type": "markdown",
   "id": "0916bd2c",
   "metadata": {},
   "source": [
    "# pre-processing the data\n",
    "## 1-casing => to lower case\n",
    "## 2-remove noise  =>remove url, punctuation , user @ references and '#' from tweet\n",
    "## 3-tokenization  => tokenize a tweet into individual words \n",
    "## 4-stopword Removal => remove stopwords \n",
    "## 5-text normalization (Stemming and lemmatization)  \n"
   ]
  },
  {
   "cell_type": "code",
   "execution_count": 6,
   "id": "febccf4e",
   "metadata": {},
   "outputs": [
    {
     "name": "stdout",
     "output_type": "stream",
     "text": [
      "   sentiment                                               text\n",
      "0          0  switchfoot that bummer shoulda got david carr ...\n",
      "1          0  upset cant updat facebook text might cri resul...\n",
      "2          0  kenichan dive mani time ball manag save 50 res...\n",
      "3          0                    whole bodi feel itchi like fire\n",
      "4          0              nationwideclass behav im mad cant see\n"
     ]
    }
   ],
   "source": [
    "def preprocess_tweet(tweet):\n",
    "    #casing\n",
    "    tweet=tweet.lower()\n",
    "    # remove url from tweet\n",
    "    tweet=re.sub(r\"http\\S+|www\\S+|https\\S+\", \"\",tweet,flags=re.MULTILINE)\n",
    "    #remove punctuation\n",
    "    tweet=tweet.translate(str.maketrans('', '', string.punctuation))\n",
    "    #remove user @ references and '#' from tweet\n",
    "    tweet=re.sub(r'\\@\\w+|\\#',\"\",tweet)\n",
    "    #remove stopwords\n",
    "    tweet_tokens=word_tokenize(tweet)\n",
    "    filtered_words=[word for word in tweet_tokens if word not in stop_words]\n",
    "    \n",
    "    #stemming => reducing a word to its root or base form by removing any prefixes or suffixes\n",
    "    ps=PorterStemmer()\n",
    "    stemmed_words=[ps.stem(w) for w in filtered_words]\n",
    "    #lemmatization => transforming words to their base or dictionary form\n",
    "    lemmatizer=WordNetLemmatizer()\n",
    "    lemma_words=[lemmatizer.lemmatize(w,pos='a')for w in stemmed_words]\n",
    "    \n",
    "    return \" \".join(lemma_words)\n",
    "data['text'] = data['text'].apply(lambda x: preprocess_tweet(x))\n",
    "print(data.head())"
   ]
  },
  {
   "cell_type": "code",
   "execution_count": 7,
   "id": "da4e1c7c",
   "metadata": {},
   "outputs": [],
   "source": [
    "def evaluate(y_test, y_predict, model):\n",
    "    print(\"\\nMODEL: \" + str(model))\n",
    "    print('Accuracy: ', metrics.accuracy_score(y_test, y_predict))\n",
    "    print(\"Precision: \", metrics.precision_score(y_test, y_predict))\n",
    "    print(\"Recall: \", metrics.recall_score(y_test, y_predict))\n",
    "    print(\"F1 Score: \", metrics.f1_score(y_test, y_predict))\n",
    "    \n",
    "    # Generate confusion matrix and plot it\n",
    "    cf_matrix = confusion_matrix(y_test, y_predict)\n",
    "        \n",
    "    categories  = ['Negative','Positive']\n",
    "    group_names = ['True Neg','False Pos', 'False Neg','True Pos']\n",
    "    group_percentages = ['{0:.2%}'.format(value) for value in cf_matrix.flatten() / np.sum(cf_matrix)]\n",
    "\n",
    "    labels = [f'{v1}\\n{v2}' for v1, v2 in zip(group_names,group_percentages)]\n",
    "    labels = np.asarray(labels).reshape(2,2)\n",
    "\n",
    "    sns.heatmap(cf_matrix, annot = labels, cmap = 'Blues',fmt = '',\n",
    "                xticklabels = categories, yticklabels = categories)\n",
    "\n",
    "    plt.xlabel(\"Predicted values\", fontdict = {'size':14}, labelpad = 10)\n",
    "    plt.ylabel(\"Actual values\"   , fontdict = {'size':14}, labelpad = 10)\n",
    "    plt.title (\"Confusion Matrix\", fontdict = {'size':18}, pad = 20)"
   ]
  },
  {
   "cell_type": "code",
   "execution_count": 8,
   "id": "8c3a3d08",
   "metadata": {},
   "outputs": [],
   "source": [
    "# split dataset and convert the text data into a vectorized representation\n",
    "X_train, X_test, y_train, y_test = train_test_split(data['text'], data['sentiment'], test_size=0.2, random_state=42)\n",
    "\n",
    "# Define function to get feature vectors from text data using TF-IDF vectorization\n",
    "def get_feature_vector(X_train, ngram_range=(1,1)):\n",
    "    vectorizer = TfidfVectorizer(sublinear_tf=True, ngram_range=ngram_range)\n",
    "    X_train_vec = vectorizer.fit_transform(X_train)\n",
    "    return X_train_vec, vectorizer"
   ]
  },
  {
   "cell_type": "code",
   "execution_count": 9,
   "id": "7db764de",
   "metadata": {},
   "outputs": [
    {
     "name": "stdout",
     "output_type": "stream",
     "text": [
      "\n",
      "MODEL: Naive Bayes with n-gram (1,10)\n",
      "Accuracy:  0.78725625\n",
      "Precision:  0.8054622848531316\n",
      "Recall:  0.7592239542447011\n",
      "F1 Score:  0.781659920846189\n"
     ]
    },
    {
     "data": {
      "image/png": "[encoded data removed]",
      "text/plain": [
       "<Figure size 640x480 with 2 Axes>"
      ]
     },
     "metadata": {},
     "output_type": "display_data"
    }
   ],
   "source": [
    "# Get feature vectors with n-gram (1,10) from training data for Naive Bayes\n",
    "X_train_vec_nb, vectorizer_nb = get_feature_vector(X_train, ngram_range=(1,10))\n",
    "# Get feature vectors with n-gram (1,10) from test data using the same vectorizer used for training for Naive Bayes\n",
    "X_test_vec_nb = vectorizer_nb.transform(X_test)\n",
    "\n",
    "# Initialize Naive Bayes classifier and fit to training data\n",
    "NB = MultinomialNB()\n",
    "NB.fit(X_train_vec_nb, y_train)\n",
    "# Predict class labels for test data using Naive Bayes classifier\n",
    "y_pred_nb = NB.predict(X_test_vec_nb)\n",
    "# Evaluate performance of Naive Bayes classifier\n",
    "evaluate(y_test, y_pred_nb, 'Naive Bayes with n-gram (1,10)')"
   ]
  },
  {
   "cell_type": "code",
   "execution_count": null,
   "id": "b3b43cb2",
   "metadata": {},
   "outputs": [],
   "source": []
  },
  {
   "cell_type": "code",
   "execution_count": 10,
   "id": "c4319b72",
   "metadata": {},
   "outputs": [
    {
     "name": "stdout",
     "output_type": "stream",
     "text": [
      "\n",
      "MODEL: Logistic Regression without n-gram\n",
      "Accuracy:  0.782878125\n",
      "Precision:  0.7766727658462156\n",
      "Recall:  0.7960138561798313\n",
      "F1 Score:  0.7862243814786668\n"
     ]
    },
    {
     "data": {
      "image/png": "[encoded data removed]",
      "text/plain": [
       "<Figure size 640x480 with 2 Axes>"
      ]
     },
     "metadata": {},
     "output_type": "display_data"
    }
   ],
   "source": [
    "# Get feature vectors without n-gram from training data for logistic regression\n",
    "X_train_vec_lr, vectorizer_lr = get_feature_vector(X_train)\n",
    "# Get feature vectors without n-gram from test data using the same vectorizer used for training for logistic regression\n",
    "X_test_vec_lr = vectorizer_lr.transform(X_test)\n",
    "# Initialize logistic regression classifier and fit to training data\n",
    "LR = LogisticRegression(C = 2, max_iter = 1000, n_jobs=-1)\n",
    "LR.fit(X_train_vec_lr, y_train)\n",
    "# Predict class labels for test data using logistic regression classifier\n",
    "y_pred_lr = LR.predict(X_test_vec_lr)\n",
    "# Evaluate performance of logistic regression classifier\n",
    "evaluate(y_test, y_pred_lr, 'Logistic Regression without n-gram')"
   ]
  },
  {
   "cell_type": "code",
   "execution_count": null,
   "id": "e65ef43a",
   "metadata": {},
   "outputs": [],
   "source": []
  },
  {
   "cell_type": "code",
   "execution_count": 26,
   "id": "130cf7a7",
   "metadata": {},
   "outputs": [],
   "source": [
    "# map integer labels (0 and 1) to their corresponding sentiment labels (\"NEGATIVE\" and \"POSITIVE\")\n",
    "decode_map = {0: \"NEGATIVE\", 1: \"POSITIVE\"}\n",
    "def decode_sentiment(label):\n",
    "    return decode_map[int(label)]"
   ]
  },
  {
   "cell_type": "code",
   "execution_count": 45,
   "id": "c49befec",
   "metadata": {},
   "outputs": [
    {
     "name": "stdout",
     "output_type": "stream",
     "text": [
      "Sentiment Label: NEGATIVE\n",
      "Score: 0.8966410176906355\n",
      "\n",
      "Sentiment Label: POSITIVE\n",
      "Score: 0.10335898230936447\n",
      "\n",
      "Label with the highest score: NEGATIVE\n"
     ]
    }
   ],
   "source": [
    "def predict(text, model):\n",
    "    # Vectorize the input text based on the model used\n",
    "    if model == NB:\n",
    "        text_vec = vectorizer_nb.transform([text])\n",
    "    elif model == LR:\n",
    "        text_vec = vectorizer_lr.transform([text])\n",
    "    else:\n",
    "        raise ValueError(\"Invalid model\")\n",
    "\n",
    "    # Make the prediction using the trained model\n",
    "    probabilities = model.predict_proba(text_vec)[0]\n",
    "\n",
    "    # Decode the sentiment labels\n",
    "    labels = [decode_sentiment(i) for i in range(len(probabilities))]\n",
    "\n",
    "    # Create a dictionary mapping labels to probabilities\n",
    "    scores = dict(zip(labels, probabilities))\n",
    "\n",
    "    return scores\n",
    "\n",
    "scores = predict(\"i hate you\", LR)\n",
    "highest_score_label = max(scores, key=scores.get)\n",
    "highest_score = scores[highest_score_label]\n",
    "\n",
    "# Print the predicted sentiment probabilities for each sentiment label\n",
    "for label, score in scores.items():\n",
    "    print(\"Sentiment Label:\", label)\n",
    "    print(\"Score:\", score)\n",
    "    print()\n",
    "\n",
    "# Print the label (NEGATIVE,POSITIVE) with the highest score\n",
    "print(\"Label with the highest score:\", highest_score_label)"
   ]
  },
  {
   "cell_type": "markdown",
   "id": "3ff4aafb",
   "metadata": {},
   "source": [
    "# intialize variables for CNN model "
   ]
  },
  {
   "cell_type": "code",
   "execution_count": 46,
   "id": "535b5cda",
   "metadata": {},
   "outputs": [],
   "source": [
    "# WORD2VEC \n",
    "W2V_SIZE = 300\n",
    "W2V_WINDOW = 7\n",
    "W2V_EPOCH = 32\n",
    "W2V_MIN_COUNT = 10\n",
    "\n",
    "# KERAS\n",
    "SEQUENCE_LENGTH = 300\n",
    "EPOCHS = 8\n",
    "BATCH_SIZE = 1024\n",
    "# EXPORT\n",
    "KERAS_MODEL = \"model.h5\"\n",
    "WORD2VEC_MODEL = \"model.w2v\"\n",
    "TOKENIZER_MODEL = \"tokenizer.pkl\"\n",
    "ENCODER_MODEL = \"encoder.pkl\""
   ]
  },
  {
   "cell_type": "markdown",
   "id": "00e1dc64",
   "metadata": {},
   "source": [
    "# training of a Word2Vec model "
   ]
  },
  {
   "cell_type": "code",
   "execution_count": 47,
   "id": "23de38d5",
   "metadata": {},
   "outputs": [
    {
     "name": "stdout",
     "output_type": "stream",
     "text": [
      "Vocab size: 37452\n",
      "[('amaz', 0.5555484294891357), ('luv', 0.512555718421936), ('lt3', 0.4887363910675049), ('awesom', 0.4566468298435211), ('ador', 0.45373138785362244), ('looov', 0.4461888074874878), ('â\\x99¥', 0.4349956810474396), ('miss', 0.43210896849632263), ('loov', 0.39677688479423523), ('great', 0.3964860439300537)]\n"
     ]
    }
   ],
   "source": [
    "documents = [_text.split() for _text in data['text']] \n",
    "\n",
    "import gensim\n",
    "\n",
    "w2v_model = gensim.models.Word2Vec(\n",
    "    vector_size=W2V_SIZE,\n",
    "    window=W2V_WINDOW,\n",
    "    min_count=W2V_MIN_COUNT,\n",
    "    workers=8\n",
    ")\n",
    "\n",
    "w2v_model.build_vocab(documents)\n",
    "\n",
    "\n",
    "words = w2v_model.wv.index_to_key\n",
    "vocab_size = len(words)\n",
    "print(\"Vocab size:\", vocab_size)      # print total number of unique words in the vocabulary\n",
    "\n",
    "w2v_model.train(documents, total_examples=len(documents), epochs=W2V_EPOCH)\n",
    "\n",
    "# find similar words\n",
    "similar_words = w2v_model.wv.most_similar(\"love\")\n",
    "print(similar_words)"
   ]
  },
  {
   "cell_type": "code",
   "execution_count": 48,
   "id": "902a9e92",
   "metadata": {},
   "outputs": [
    {
     "name": "stdout",
     "output_type": "stream",
     "text": [
      "Total words 618925\n"
     ]
    }
   ],
   "source": [
    "from keras.preprocessing.text import Tokenizer\n",
    "\n",
    "tokenizer = Tokenizer()        # to convert text data into a numerical representation \n",
    "tokenizer.fit_on_texts(X_train)\n",
    "\n",
    "vocab_size = len(tokenizer.word_index) + 1\n",
    "print(\"Total words\", vocab_size)   # Prints the total number of words in the vocabulary.\n",
    "\n",
    "from tensorflow.keras.preprocessing.sequence import pad_sequences\n",
    "\n",
    "x_train = pad_sequences(tokenizer.texts_to_sequences(X_train), maxlen=SEQUENCE_LENGTH)   #  converts each text in X_train into a sequence of integers based on the word indices obtained from the tokenizer\n",
    "x_test = pad_sequences(tokenizer.texts_to_sequences(X_test), maxlen=SEQUENCE_LENGTH)\n"
   ]
  },
  {
   "cell_type": "code",
   "execution_count": 49,
   "id": "020a7370",
   "metadata": {},
   "outputs": [
    {
     "name": "stdout",
     "output_type": "stream",
     "text": [
      "y_train shape: (1280000, 1)\n",
      "y_test shape: (320000, 1)\n"
     ]
    }
   ],
   "source": [
    "from sklearn.preprocessing import LabelEncoder\n",
    "\n",
    "encoder = LabelEncoder()     # encode categorical labels as integers\n",
    "encoder.fit(y_train.tolist())\n",
    "\n",
    "y_train = encoder.transform(y_train.tolist())\n",
    "y_test = encoder.transform(y_test.tolist())\n",
    "\n",
    "# reshape method. This is done to ensure that the label arrays have the correct shape for further processing or model training.\n",
    "# -1 in the reshape indicates that the dimension is inferred based on the length of the array\n",
    "# 1 indicates that the array has only one column.\n",
    "y_train = y_train.reshape(-1, 1)\n",
    "y_test = y_test.reshape(-1, 1)\n",
    "\n",
    "print(\"y_train shape:\", y_train.shape)\n",
    "print(\"y_test shape:\", y_test.shape)"
   ]
  },
  {
   "cell_type": "code",
   "execution_count": 50,
   "id": "47b63010",
   "metadata": {},
   "outputs": [
    {
     "name": "stdout",
     "output_type": "stream",
     "text": [
      "(618925, 300)\n"
     ]
    }
   ],
   "source": [
    "embedding_matrix = np.zeros((vocab_size, W2V_SIZE))\n",
    "for word, i in tokenizer.word_index.items():\n",
    "    # ensures that the word has a pre-trained word embedding available in the Word2Vec model.\n",
    "  if word in w2v_model.wv:\n",
    "    embedding_matrix[i] = w2v_model.wv[word]\n",
    "# print shape of the embedding matrix represents the number of unique words in the tokenizer's word index (rows) and the dimensionality of the word embeddings (columns).\n",
    "print(embedding_matrix.shape)   "
   ]
  },
  {
   "cell_type": "code",
   "execution_count": 51,
   "id": "21d210df",
   "metadata": {},
   "outputs": [
    {
     "name": "stdout",
     "output_type": "stream",
     "text": [
      "Epoch 1/8\n",
      "1125/1125 [==============================] - ETA: 0s - loss: 0.5119 - accuracy: 0.7456WARNING:tensorflow:Early stopping conditioned on metric `val_acc` which is not available. Available metrics are: loss,accuracy,val_loss,val_accuracy,lr\n",
      "1125/1125 [==============================] - 6293s 6s/step - loss: 0.5119 - accuracy: 0.7456 - val_loss: 0.4662 - val_accuracy: 0.7804 - lr: 0.0010\n",
      "Epoch 2/8\n",
      "1125/1125 [==============================] - ETA: 0s - loss: 0.4784 - accuracy: 0.7689WARNING:tensorflow:Early stopping conditioned on metric `val_acc` which is not available. Available metrics are: loss,accuracy,val_loss,val_accuracy,lr\n",
      "1125/1125 [==============================] - 6624s 6s/step - loss: 0.4784 - accuracy: 0.7689 - val_loss: 0.4557 - val_accuracy: 0.7877 - lr: 0.0010\n",
      "Epoch 3/8\n",
      "1125/1125 [==============================] - ETA: 0s - loss: 0.4703 - accuracy: 0.7741WARNING:tensorflow:Early stopping conditioned on metric `val_acc` which is not available. Available metrics are: loss,accuracy,val_loss,val_accuracy,lr\n",
      "1125/1125 [==============================] - 6429s 6s/step - loss: 0.4703 - accuracy: 0.7741 - val_loss: 0.4499 - val_accuracy: 0.7899 - lr: 0.0010\n",
      "Epoch 4/8\n",
      "1125/1125 [==============================] - ETA: 0s - loss: 0.4659 - accuracy: 0.7765WARNING:tensorflow:Early stopping conditioned on metric `val_acc` which is not available. Available metrics are: loss,accuracy,val_loss,val_accuracy,lr\n",
      "1125/1125 [==============================] - 6613s 6s/step - loss: 0.4659 - accuracy: 0.7765 - val_loss: 0.4469 - val_accuracy: 0.7932 - lr: 0.0010\n",
      "Epoch 5/8\n",
      "1125/1125 [==============================] - ETA: 0s - loss: 0.4633 - accuracy: 0.7779WARNING:tensorflow:Early stopping conditioned on metric `val_acc` which is not available. Available metrics are: loss,accuracy,val_loss,val_accuracy,lr\n",
      "1125/1125 [==============================] - 5969s 5s/step - loss: 0.4633 - accuracy: 0.7779 - val_loss: 0.4440 - val_accuracy: 0.7942 - lr: 0.0010\n",
      "Epoch 6/8\n",
      "1125/1125 [==============================] - ETA: 0s - loss: 0.4609 - accuracy: 0.7797WARNING:tensorflow:Early stopping conditioned on metric `val_acc` which is not available. Available metrics are: loss,accuracy,val_loss,val_accuracy,lr\n",
      "1125/1125 [==============================] - 6321s 6s/step - loss: 0.4609 - accuracy: 0.7797 - val_loss: 0.4432 - val_accuracy: 0.7940 - lr: 0.0010\n",
      "Epoch 7/8\n",
      "1125/1125 [==============================] - ETA: 0s - loss: 0.4591 - accuracy: 0.7809WARNING:tensorflow:Early stopping conditioned on metric `val_acc` which is not available. Available metrics are: loss,accuracy,val_loss,val_accuracy,lr\n",
      "1125/1125 [==============================] - 6636s 6s/step - loss: 0.4591 - accuracy: 0.7809 - val_loss: 0.4426 - val_accuracy: 0.7951 - lr: 0.0010\n",
      "Epoch 8/8\n",
      "1125/1125 [==============================] - ETA: 0s - loss: 0.4583 - accuracy: 0.7814WARNING:tensorflow:Early stopping conditioned on metric `val_acc` which is not available. Available metrics are: loss,accuracy,val_loss,val_accuracy,lr\n",
      "1125/1125 [==============================] - 6067s 5s/step - loss: 0.4583 - accuracy: 0.7814 - val_loss: 0.4405 - val_accuracy: 0.7963 - lr: 0.0010\n",
      "313/313 [==============================] - 221s 703ms/step - loss: 0.4418 - accuracy: 0.7960\n",
      "ACCURACY: 0.7959750294685364\n",
      "LOSS: 0.4418278932571411\n"
     ]
    }
   ],
   "source": [
    "from tensorflow.keras.layers import Embedding\n",
    "# vocab_size : The total number of unique words in the vocabulary\n",
    "embedding_layer = Embedding(vocab_size, W2V_SIZE, weights=[embedding_matrix], input_length=SEQUENCE_LENGTH, trainable=False)\n",
    "\n",
    "\n",
    "# # Build CNN Model\n",
    "from keras.models import Sequential\n",
    "from keras.layers import Conv1D\n",
    "from keras.layers import Dense, Dropout, Flatten\n",
    "from keras.layers import GlobalMaxPooling1D\n",
    "from keras.layers import LSTM\n",
    "from keras.callbacks import ReduceLROnPlateau, EarlyStopping\n",
    "\n",
    "\n",
    "model = Sequential()\n",
    "model.add(embedding_layer)\n",
    "model.add(Dropout(0.5))\n",
    "model.add(LSTM(100, dropout=0.2, recurrent_dropout=0.2))\n",
    "model.add(Dense(1, activation='sigmoid'))\n",
    "\n",
    "\n",
    "# binary_crossentropy :commonly used for binary classification tasks.It is suitable when the model is trained to predict a single binary output\n",
    "model.compile(loss='binary_crossentropy',optimizer=\"adam\",metrics=['accuracy'])\n",
    "\n",
    "# adjust learning rates and stop training early based on specific conditions.\n",
    "callbacks = [ReduceLROnPlateau(monitor='val_loss', patience=5, cooldown=0),\n",
    "            EarlyStopping(monitor='val_acc', min_delta=1e-4, patience=5)]\n",
    "history = model.fit(x_train, y_train,batch_size=BATCH_SIZE,epochs=EPOCHS,validation_split=0.1,verbose=1,callbacks=callbacks)\n",
    "\n",
    "# evaluate the model\n",
    "score = model.evaluate(x_test, y_test, batch_size=BATCH_SIZE)\n",
    "print(\"ACCURACY:\",score[1])\n",
    "print(\"LOSS:\",score[0])"
   ]
  },
  {
   "cell_type": "markdown",
   "id": "9dc2a8a2",
   "metadata": {},
   "source": [
    "# predict the sentiment of the text "
   ]
  },
  {
   "cell_type": "code",
   "execution_count": 59,
   "id": "771a2616",
   "metadata": {},
   "outputs": [
    {
     "name": "stdout",
     "output_type": "stream",
     "text": [
      "1/1 [==============================] - 0s 172ms/step\n"
     ]
    },
    {
     "data": {
      "text/plain": [
       "{'label': 'NEUTRAL',\n",
       " 'score': 0.5908474326133728,\n",
       " 'elapsed_time': 0.32213687896728516}"
      ]
     },
     "execution_count": 59,
     "metadata": {},
     "output_type": "execute_result"
    }
   ],
   "source": [
    "import time\n",
    "\n",
    "POSITIVE = \"POSITIVE\"\n",
    "NEGATIVE = \"NEGATIVE\"\n",
    "NEUTRAL = \"NEUTRAL\"\n",
    "SENTIMENT_THRESHOLDS = (0.4, 0.7)\n",
    "\n",
    "decode_map = {0: \"NEGATIVE\", 2: \"NEUTRAL\", 4: \"POSITIVE\"}\n",
    "def decode_sentiment(label):\n",
    "    return decode_map[int(label)]\n",
    "\n",
    "def decode_sentiment(score, include_neutral=True):\n",
    "    if include_neutral:        \n",
    "        label = NEUTRAL\n",
    "        if score <= SENTIMENT_THRESHOLDS[0]:\n",
    "            label = NEGATIVE\n",
    "        elif score >= SENTIMENT_THRESHOLDS[1]:\n",
    "            label = POSITIVE\n",
    "\n",
    "        return label\n",
    "    else:\n",
    "        return NEGATIVE if score < 0.5 else POSITIVE\n",
    "    \n",
    "def predict(text, include_neutral=True):\n",
    "    start_at = time.time()\n",
    "    # Tokenize text\n",
    "    x_test = pad_sequences(tokenizer.texts_to_sequences([text]), maxlen=SEQUENCE_LENGTH)\n",
    "    # Predict\n",
    "    score = model.predict([x_test])[0]\n",
    "    # Decode sentiment\n",
    "    label = decode_sentiment(score, include_neutral=include_neutral)\n",
    "\n",
    "    return {\"label\": label, \"score\": float(score),\n",
    "       \"elapsed_time\": time.time()-start_at}  \n",
    "predict(\"i don't know what i'm doing\")\n"
   ]
  },
  {
   "cell_type": "markdown",
   "id": "7692f676",
   "metadata": {},
   "source": [
    "# save models used "
   ]
  },
  {
   "cell_type": "code",
   "execution_count": 65,
   "id": "71b9330d",
   "metadata": {},
   "outputs": [],
   "source": [
    "import pickle\n",
    "\n",
    "with open('NB_pkl', 'wb') as files:\n",
    "    pickle.dump(NB, files)\n",
    "\n",
    "with open('LR_pkl', 'wb') as files:\n",
    "    pickle.dump(LR, files)\n",
    "\n",
    "    \n",
    "model.save('KERAS_MODEL.h5')\n",
    "w2v_model.save('WORD2VEC_MODEL.w2v')\n",
    "pickle.dump(tokenizer, open(TOKENIZER_MODEL, \"wb\"), protocol=0)\n",
    "pickle.dump(encoder, open(ENCODER_MODEL, \"wb\"), protocol=0)\n",
    "\n"
   ]
  },
  {
   "cell_type": "code",
   "execution_count": null,
   "id": "3c8cccdd",
   "metadata": {},
   "outputs": [],
   "source": []
  }
 ],
 "metadata": {
  "kernelspec": {
   "display_name": "Python 3 (ipykernel)",
   "language": "python",
   "name": "python3"
  },
  "language_info": {
   "codemirror_mode": {
    "name": "ipython",
    "version": 3
   },
   "file_extension": ".py",
   "mimetype": "text/x-python",
   "name": "python",
   "nbconvert_exporter": "python",
   "pygments_lexer": "ipython3",
   "version": "3.9.12"
  }
 },
 "nbformat": 4,
 "nbformat_minor": 5
}
